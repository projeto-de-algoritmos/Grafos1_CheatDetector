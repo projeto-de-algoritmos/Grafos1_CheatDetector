{
  "nbformat": 4,
  "nbformat_minor": 0,
  "metadata": {
    "colab": {
      "name": "detector_de_cola.ipynb",
      "provenance": []
    }
  },
  "cells": [
    {
      "cell_type": "markdown",
      "metadata": {
        "id": "M-_AsPzAOT0-"
      },
      "source": [
        "# Cheat Detector\n",
        "Similarity-based cheat detector for written exams with multiple questions."
      ]
    },
    {
      "cell_type": "code",
      "metadata": {
        "collapsed": true,
        "jupyter": {
          "source_hidden": false,
          "outputs_hidden": false
        },
        "nteract": {
          "transient": {
            "deleting": false
          }
        },
        "id": "uSvOnOlgOP-P"
      },
      "source": [
        "from detector_de_cola import DetectorDeCola\n",
        "import numpy as np\n",
        "\n",
        "from IPython.display import clear_output, display\n",
        "import ipywidgets\n",
        "import zipfile\n",
        "import io"
      ],
      "execution_count": null,
      "outputs": []
    },
    {
      "cell_type": "code",
      "metadata": {
        "collapsed": true,
        "jupyter": {
          "source_hidden": false,
          "outputs_hidden": false
        },
        "nteract": {
          "transient": {
            "deleting": false
          }
        },
        "id": "-bH26OdJOP-R"
      },
      "source": [
        "detector_de_cola = DetectorDeCola()"
      ],
      "execution_count": null,
      "outputs": []
    },
    {
      "cell_type": "code",
      "metadata": {
        "collapsed": true,
        "jupyter": {
          "source_hidden": false,
          "outputs_hidden": false
        },
        "nteract": {
          "transient": {
            "deleting": false
          }
        },
        "id": "oNGy2C0pOP-T"
      },
      "source": [
        "file_upload_button = ipywidgets.FileUpload()"
      ],
      "execution_count": null,
      "outputs": []
    },
    {
      "cell_type": "code",
      "metadata": {
        "collapsed": true,
        "jupyter": {
          "source_hidden": false,
          "outputs_hidden": false
        },
        "nteract": {
          "transient": {
            "deleting": false
          }
        },
        "id": "G0Y634_FOP-U"
      },
      "source": [
        "class ThresholdSlider(object):\n",
        "\n",
        "    def __init__(self):\n",
        "        self.widget = ipywidgets.FloatSlider(\n",
        "            value=0.5,  # default value\n",
        "            min=0, max=1, step=0.05\n",
        "        )\n",
        "        self.output = ipywidgets.Output()\n",
        "        self.has_been_instantiated = False\n",
        "\n",
        "    def display(self):\n",
        "        if self.has_been_instantiated:\n",
        "            # with threshold_slider.output:\n",
        "            #     clear_output(True)\n",
        "            #     display(threshold_slider.widget)\n",
        "            with self.output:\n",
        "                clear_output(True)\n",
        "                display(self.widget)\n",
        "        else:\n",
        "            # display(threshold_slider.output)\n",
        "            display(self.output)\n",
        "            self.has_been_instantiated = True\n",
        "\n",
        "threshold_slider = ThresholdSlider()"
      ],
      "execution_count": null,
      "outputs": []
    },
    {
      "cell_type": "code",
      "metadata": {
        "collapsed": true,
        "jupyter": {
          "source_hidden": false,
          "outputs_hidden": false
        },
        "nteract": {
          "transient": {
            "deleting": false
          }
        },
        "id": "qS6Pc-MDOP-X"
      },
      "source": [
        "class WhichQuestionsWidget(object):\n",
        "\n",
        "    def __init__(self):\n",
        "        self.widget = self.create_widget(1, None, None)\n",
        "        self.output = ipywidgets.Output()\n",
        "        self.has_been_instantiated = False\n",
        "\n",
        "    def observe(self, function, names):\n",
        "        self.function_to_observe = function\n",
        "        self.names_to_observe = names\n",
        "\n",
        "    def create_widget(self, question_quantity, function_to_observe, names_to_observe):\n",
        "        which_questions = [i+1 for i in range(question_quantity)]\n",
        "        widget = ipywidgets.SelectMultiple(\n",
        "            options=which_questions,\n",
        "            value=which_questions,  # default value\n",
        "            disabled=False\n",
        "        )\n",
        "        widget.observe(function_to_observe, names_to_observe)\n",
        "        return widget\n",
        "\n",
        "    def display(self, question_quantity):\n",
        "        if self.has_been_instantiated:\n",
        "            self.widget = self.create_widget(\n",
        "                question_quantity, self.function_to_observe, self.names_to_observe\n",
        "            )\n",
        "            with self.output:\n",
        "                clear_output(True)\n",
        "                display(self.widget)\n",
        "        else:\n",
        "            display(self.output)\n",
        "            self.has_been_instantiated = True\n",
        "\n",
        "\n",
        "which_questions_widget = WhichQuestionsWidget()"
      ],
      "execution_count": null,
      "outputs": []
    },
    {
      "cell_type": "code",
      "metadata": {
        "collapsed": true,
        "jupyter": {
          "source_hidden": false,
          "outputs_hidden": false
        },
        "nteract": {
          "transient": {
            "deleting": false
          }
        },
        "id": "9PZU4QgCOP-Z"
      },
      "source": [
        "closest_students_plot = ipywidgets.Output()"
      ],
      "execution_count": null,
      "outputs": []
    },
    {
      "cell_type": "markdown",
      "metadata": {
        "id": "ax_4bY3HOgho"
      },
      "source": [
        "## How to use\n",
        "For the correct functioning of the cheat detector, it is necessary to send a zip file that contains each student exam. Each exam should be a text file (.txt) in the following format. Don't forget the blank line between each question answer.\n",
        "\n",
        "```\n",
        "Answer to question 1\n",
        "\n",
        "Answer to question 2\n",
        "\n",
        "Answer to question 3\n",
        "```\n",
        "\n",
        "Here's an [unzipped folder](https://github.com/projeto-de-algoritmos/Grafo1_Joao_Lucas_Leonardo_Miranda/blob/main/mock_data/prova_1) example."
      ]
    },
    {
      "cell_type": "code",
      "metadata": {
        "collapsed": true,
        "jupyter": {
          "source_hidden": false,
          "outputs_hidden": false
        },
        "nteract": {
          "transient": {
            "deleting": false
          }
        },
        "id": "VN05gwxyOP-d"
      },
      "source": [
        "display(file_upload_button)"
      ],
      "execution_count": null,
      "outputs": []
    },
    {
      "cell_type": "markdown",
      "metadata": {
        "id": "J9Z_oDb4OmsB"
      },
      "source": [
        "### Similarity Threshold"
      ]
    },
    {
      "cell_type": "code",
      "metadata": {
        "collapsed": true,
        "jupyter": {
          "source_hidden": false,
          "outputs_hidden": false
        },
        "nteract": {
          "transient": {
            "deleting": false
          }
        },
        "id": "xvQTzZ7xOP-g"
      },
      "source": [
        "threshold_slider.display()"
      ],
      "execution_count": null,
      "outputs": []
    },
    {
      "cell_type": "markdown",
      "metadata": {
        "id": "EKiwiFi4OsJK"
      },
      "source": [
        "### Which questions should be considered?"
      ]
    },
    {
      "cell_type": "code",
      "metadata": {
        "collapsed": true,
        "jupyter": {
          "source_hidden": false,
          "outputs_hidden": false
        },
        "nteract": {
          "transient": {
            "deleting": false
          }
        },
        "id": "BJhkYy4sOP-k"
      },
      "source": [
        "which_questions_widget.display(question_quantity=1)"
      ],
      "execution_count": null,
      "outputs": []
    },
    {
      "cell_type": "markdown",
      "metadata": {
        "id": "O1I8Gj_cOuUk"
      },
      "source": [
        "### Closest Answers Graph\n"
      ]
    },
    {
      "cell_type": "code",
      "metadata": {
        "collapsed": true,
        "jupyter": {
          "source_hidden": false,
          "outputs_hidden": false
        },
        "nteract": {
          "transient": {
            "deleting": false
          }
        },
        "id": "p-D6I-ayOP-o"
      },
      "source": [
        "display(closest_students_plot)"
      ],
      "execution_count": null,
      "outputs": []
    },
    {
      "cell_type": "code",
      "metadata": {
        "collapsed": true,
        "jupyter": {
          "source_hidden": false,
          "outputs_hidden": false
        },
        "nteract": {
          "transient": {
            "deleting": false
          }
        },
        "id": "M1ib5-5AOP-q"
      },
      "source": [
        "def plot_graph(unuseful_arg):\n",
        "    global output\n",
        "    threshold = threshold_slider.widget.value\n",
        "    selected_questions = np.asarray(which_questions_widget.widget.value)\n",
        "\n",
        "    if selected_questions.shape[0] <= 0:\n",
        "        return\n",
        "\n",
        "    mean_sim_matrix = np.mean(\n",
        "        np.take(\n",
        "            sim_matrix_list,\n",
        "            indices=selected_questions-1,\n",
        "            axis=0\n",
        "        ),\n",
        "        axis=0\n",
        "    )\n",
        "\n",
        "    closest_answers_graph = detector_de_cola.sim_matrix_to_closest_answers(\n",
        "        mean_sim_matrix, threshold\n",
        "    )\n",
        "\n",
        "    with closest_students_plot:\n",
        "        clear_output(True)\n",
        "        detector_de_cola.plot_closest_answers(\n",
        "            closest_answers_graph\n",
        "        )"
      ],
      "execution_count": null,
      "outputs": []
    },
    {
      "cell_type": "code",
      "metadata": {
        "collapsed": true,
        "jupyter": {
          "source_hidden": false,
          "outputs_hidden": false
        },
        "nteract": {
          "transient": {
            "deleting": false
          }
        },
        "id": "dYB0TQLJOP-r"
      },
      "source": [
        "def on_zip_upload(unuseful_arg):\n",
        "    global sim_matrix_list, name_list, exam_list, question_answers_list, zip_file\n",
        "    zip_bytes = file_upload_button.data[-1]\n",
        "    zip_file = zipfile.ZipFile(io.BytesIO(zip_bytes), mode=\"r\",)\n",
        "\n",
        "    filename_list = zip_file.namelist()\n",
        "    exam_list = np.asarray([[i.decode() for i in zip_file.read(filename).splitlines() if i != b'']\n",
        "                            for filename in filename_list if '.txt' ==  filename[-4:]])\n",
        "    zip_file.close()\n",
        "\n",
        "    name_list = [filename.replace('.txt', '') for filename in filename_list]\n",
        "    question_answers_list = exam_list.T\n",
        "\n",
        "    sim_matrix_list = np.asarray(\n",
        "        [detector_de_cola.predict_sim_matrix(question_answers)\n",
        "        for question_answers in question_answers_list]\n",
        "    )\n",
        "\n",
        "    # plot graph for the first time\n",
        "    plot_graph(unuseful_arg=None)\n",
        "\n",
        "    threshold_slider.display()\n",
        "    which_questions_widget.display(\n",
        "        question_quantity=len(sim_matrix_list)\n",
        "    )"
      ],
      "execution_count": null,
      "outputs": []
    },
    {
      "cell_type": "code",
      "metadata": {
        "collapsed": true,
        "jupyter": {
          "source_hidden": false,
          "outputs_hidden": false
        },
        "nteract": {
          "transient": {
            "deleting": false
          }
        },
        "id": "uddMJZkrOP-u"
      },
      "source": [
        "file_upload_button.observe(on_zip_upload, names=['data'])\n",
        "threshold_slider.widget.observe(plot_graph, names='value')\n",
        "which_questions_widget.observe(plot_graph, names='value')"
      ],
      "execution_count": null,
      "outputs": []
    }
  ]
}
